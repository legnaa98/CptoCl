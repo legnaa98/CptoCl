{
 "cells": [
  {
   "cell_type": "code",
   "execution_count": 2,
   "metadata": {},
   "outputs": [],
   "source": [
    "%matplotlib inline\n",
    "import matplotlib.pyplot as plt\n",
    "from numpy import *\n",
    "import pandas as pd\n",
    "import scipy.integrate\n",
    "from scipy import interpolate"
   ]
  },
  {
   "cell_type": "code",
   "execution_count": 3,
   "metadata": {},
   "outputs": [],
   "source": [
    "def intersect(f,g):\n",
    "    idx = argwhere(f-g==0) # argwhere returns the indicies that meet the condition\n",
    "    return(idx)\n",
    "\n",
    "def polyGen(x,deg):\n",
    "    xPoly = zeros([len(x),deg+1])\n",
    "    for n in arange(0,deg+1):\n",
    "        xPoly[:,n] = power(x,n)\n",
    "    return(xPoly)\n",
    "\n",
    "def int(f,g,X,dx):\n",
    "    m = len(X)\n",
    "    A = 0\n",
    "    for i in range(0,m):\n",
    "        h = abs(f[i]-g[i])\n",
    "        A += h*dx\n",
    "    return(A)"
   ]
  },
  {
   "cell_type": "code",
   "execution_count": 6,
   "metadata": {},
   "outputs": [
    {
     "name": "stdout",
     "output_type": "stream",
     "text": [
      "Dynamic Pressure: 580.407808 Pa\n"
     ]
    }
   ],
   "source": [
    "# parameters of flight\n",
    "v_inf = 32 # m/s\n",
    "rho_inf = 1.133609 # kg/m3\n",
    "alpha = 3.4 # deg (°)\n",
    "#v_inf = 45 # m/s\n",
    "#rho_inf = 0.95 # kg/m3\n",
    "#alpha = 3.4 # deg (°)\n",
    "\n",
    "\n",
    "# import the data\n",
    "data = pd.read_csv('Taller2.csv',sep=',')\n",
    "\n",
    "x = data['x'] # measures in mm\n",
    "#x = x\n",
    "x_norm = divide(x,x.iloc[-1]) # normalize chord length points.\n",
    "                              # x.iloc[-1] picks the last element of the dataframe x\n",
    "\n",
    "# pressure differences of upper and lower surface (p-p_inf)\n",
    "dp_u = data['dp_u']\n",
    "dp_l = data['dp_l']\n",
    "\n",
    "# free-stream dynamic pressure\n",
    "q_inf = 1/2*rho_inf*v_inf**2  # Pa\n",
    "print(\"Dynamic Pressure: %f Pa\" %(q_inf))\n",
    "\n",
    "# pressure coefficient computation for uppen and lower surface\n",
    "Cp_u = divide(dp_u,q_inf)\n",
    "Cp_l = divide(dp_l,q_inf)\n",
    "\n",
    "a,b = intersect(Cp_u,Cp_l) # limits of integration"
   ]
  },
  {
   "cell_type": "markdown",
   "metadata": {},
   "source": [
    "### $C_{l}$ Computation"
   ]
  },
  {
   "cell_type": "code",
   "execution_count": 7,
   "metadata": {},
   "outputs": [
    {
     "name": "stdout",
     "output_type": "stream",
     "text": [
      "Empirical method:\n",
      "2.178449989634529\n",
      "Lift:\n",
      "227.590089 N\n"
     ]
    }
   ],
   "source": [
    "dx = x_norm[1]-x_norm[0]\n",
    "chord = x.iloc[-1]/1000\n",
    "# Empirical method\n",
    "Cl = int(Cp_u,Cp_l,x,dx)\n",
    "print('Empirical method:')\n",
    "print(Cl)\n",
    "L = q_inf*Cl*chord # does chord length matter???\n",
    "print('Lift:\\n%f N' %(L))"
   ]
  },
  {
   "cell_type": "code",
   "execution_count": 8,
   "metadata": {},
   "outputs": [
    {
     "name": "stdout",
     "output_type": "stream",
     "text": [
      "Trapezoid rule:\n",
      "2.17844998963453\n",
      "Lift:\n",
      "227.590089 N\n"
     ]
    }
   ],
   "source": [
    "# Trapezoid rule\n",
    "upp_int = scipy.integrate.trapz(x_norm,Cp_u,dx)\n",
    "low_int = scipy.integrate.trapz(x_norm,Cp_l,dx)\n",
    "Cl = upp_int-low_int\n",
    "print('Trapezoid rule:')\n",
    "print(Cl)\n",
    "L = q_inf*Cl*chord\n",
    "print('Lift:\\n%f N' %(L))"
   ]
  },
  {
   "cell_type": "code",
   "execution_count": 25,
   "metadata": {},
   "outputs": [
    {
     "name": "stdout",
     "output_type": "stream",
     "text": [
      "<scipy.interpolate.interpolate.interp1d object at 0x7f042080e778>\n",
      "Trapezoid rule:\n",
      "Cl = 2.165487\n",
      "Lift:\n",
      "226.235789 N\n"
     ]
    },
    {
     "data": {
      "image/png": "[encoded data removed]",
      "text/plain": [
       "<Figure size 432x288 with 1 Axes>"
      ]
     },
     "metadata": {
      "needs_background": "light"
     },
     "output_type": "display_data"
    }
   ],
   "source": [
    "# plotting\n",
    "\n",
    "deg = 5\n",
    "#coef_u = \n",
    "coef_l = polyfit(x_norm,Cp_l,deg)\n",
    "x_cont = linspace(x_norm[0],x_norm.iloc[-1],100) # continuous interval of x values\n",
    "\n",
    "xfit = polyGen(x_cont,deg)\n",
    "yfit_l = matmul(coef_l,transpose(xfit))\n",
    "\n",
    "# INTERPOLATION~~~~~~~~~~~~~~~~~~~~~~~~~~~~~~~~~~~~~~~~~~~~~~~~~~\n",
    "f_u = interpolate.interp1d(x_norm,Cp_u,deg)\n",
    "print(f_u)\n",
    "yinterp_u = f_u(x_cont)\n",
    "f_l = interpolate.interp1d(x_norm,Cp_l,deg)\n",
    "yinterp_l = f_l(x_cont)\n",
    "\n",
    "# integrate over interpolated curve\n",
    "upp_int = scipy.integrate.trapz(x_cont,yinterp_u)\n",
    "low_int = scipy.integrate.trapz(x_cont,yinterp_l)\n",
    "Cl = upp_int-low_int\n",
    "print('Trapezoid rule:')\n",
    "L = q_inf*Cl*chord\n",
    "print(\"Cl = %f\" %(Cl))\n",
    "print('Lift:\\n%f N' %(L))\n",
    "#~~~~~~~~~~~~~~~~~~~~~~~~~~~~~~~~~~~~~~~~~~~~~~~~~~~~~~~~~~~~~~~~~\n",
    "\n",
    "fig, ax = plt.subplots()\n",
    "#ax.plot(x_norm, coef_l[0]+x_norm*coef_l[1]+x_norm**2*coef_l[2])\n",
    "#ax.plot(x_cont,yfit_l,'r',linewidth=0.8)\n",
    "ax.plot(x_cont,yinterp_u,'r-')\n",
    "ax.plot(x_cont,yinterp_l,'r-')\n",
    "\n",
    "ax.plot(x_norm,Cp_u,'bo',markersize=0.85)\n",
    "ax.plot(x_norm,Cp_l,'bo',markersize=0.85)\n",
    "ax.plot(x_norm[a],Cp_l[a],'ro')\n",
    "ax.plot(x_norm[b],Cp_u[b],'ro')\n",
    "ax.fill_between(x_cont,yinterp_l,yinterp_u,alpha=0.6)\n",
    "plt.xlabel('$x/c$')\n",
    "plt.ylabel('$C_{p}$')\n",
    "plt.title('Pressure coefficient')\n",
    "plt.gca().invert_yaxis() # invert Y-axis by aerodynamic convention\n",
    "plt.grid(True)\n",
    "plt.show()"
   ]
  },
  {
   "cell_type": "code",
   "execution_count": null,
   "metadata": {},
   "outputs": [],
   "source": []
  }
 ],
 "metadata": {
  "kernelspec": {
   "display_name": "Python 3",
   "language": "python",
   "name": "python3"
  },
  "language_info": {
   "codemirror_mode": {
    "name": "ipython",
    "version": 3
   },
   "file_extension": ".py",
   "mimetype": "text/x-python",
   "name": "python",
   "nbconvert_exporter": "python",
   "pygments_lexer": "ipython3",
   "version": "3.7.2"
  }
 },
 "nbformat": 4,
 "nbformat_minor": 2
}
